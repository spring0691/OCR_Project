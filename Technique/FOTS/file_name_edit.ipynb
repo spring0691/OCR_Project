{
 "cells": [
  {
   "cell_type": "code",
   "execution_count": 3,
   "metadata": {},
   "outputs": [],
   "source": [
    "import os,glob\n",
    "path = 'D:\\_data\\personal_project\\ICDAR_2015\\\\train_gt'     # 경로 설정\n"
   ]
  },
  {
   "cell_type": "code",
   "execution_count": 4,
   "metadata": {},
   "outputs": [
    {
     "name": "stdout",
     "output_type": "stream",
     "text": [
      "['gt_img_1.txt', 'gt_img_10.txt', 'gt_img_100.txt', 'gt_img_1000.txt', 'gt_img_101.txt']\n"
     ]
    }
   ],
   "source": [
    "name_list = os.listdir(path)                                # 1000개의 이름들 로드\n",
    "print(name_list[:5])"
   ]
  },
  {
   "cell_type": "code",
   "execution_count": 7,
   "metadata": {},
   "outputs": [],
   "source": [
    "for old_name in name_list:\n",
    "    new_name = old_name.replace('gt_','')                   # 각 이름의 gt_ -> 공백''로 치환\n",
    "    os.rename(f'{path}/{old_name}',f'{path}/{new_name}')"
   ]
  }
 ],
 "metadata": {
  "interpreter": {
   "hash": "261fa88f2c090dcd8643b3fd4649e492ba3c14c8e11d52777031b823fb316f84"
  },
  "kernelspec": {
   "display_name": "Python 3.9.10 ('torch')",
   "language": "python",
   "name": "python3"
  },
  "language_info": {
   "codemirror_mode": {
    "name": "ipython",
    "version": 3
   },
   "file_extension": ".py",
   "mimetype": "text/x-python",
   "name": "python",
   "nbconvert_exporter": "python",
   "pygments_lexer": "ipython3",
   "version": "3.9.10"
  },
  "orig_nbformat": 4
 },
 "nbformat": 4,
 "nbformat_minor": 2
}
