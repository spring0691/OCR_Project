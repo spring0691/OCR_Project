{
 "cells": [
  {
   "cell_type": "code",
   "execution_count": 11,
   "metadata": {},
   "outputs": [],
   "source": [
    "import torch\n",
    "from data.dataset import ImageDataSet\n",
    "from torch.utils.data import DataLoader\n",
    "from config import opt"
   ]
  },
  {
   "cell_type": "code",
   "execution_count": 17,
   "metadata": {},
   "outputs": [],
   "source": [
    "root_path = 'D:/_data/personal_project/ICDAR_2015/'\n",
    "train_img = root_path + 'train_img'\n",
    "train_txt = root_path + 'train_gt'"
   ]
  },
  {
   "cell_type": "code",
   "execution_count": 18,
   "metadata": {},
   "outputs": [
    {
     "data": {
      "text/plain": [
       "4"
      ]
     },
     "execution_count": 18,
     "metadata": {},
     "output_type": "execute_result"
    }
   ],
   "source": [
    "trainset = ImageDataSet(train_img, train_txt)\\\n",
    "    \n",
    "len(trainset[0])"
   ]
  },
  {
   "cell_type": "code",
   "execution_count": 12,
   "metadata": {},
   "outputs": [],
   "source": [
    "def collate_fn(batch):\n",
    "    img, score_map, geo_map, training_mask = zip(*batch)\n",
    "    bs = len(score_map)\n",
    "    images = []\n",
    "    score_maps = []\n",
    "    geo_maps = []\n",
    "    training_masks = []\n",
    "    for i in range(bs):\n",
    "        if img[i] is not None:\n",
    "            a = torch.from_numpy(img[i])\n",
    "            a = a.permute(2, 0, 1)\n",
    "            images.append(a)\n",
    "            b = torch.from_numpy(score_map[i])\n",
    "            b = b.permute(2, 0, 1)\n",
    "            score_maps.append(b)\n",
    "            c = torch.from_numpy(geo_map[i])\n",
    "            c = c.permute(2, 0, 1)\n",
    "            geo_maps.append(c)\n",
    "            d = torch.from_numpy(training_mask[i])\n",
    "            d = d.permute(2, 0, 1)\n",
    "            training_masks.append(d)\n",
    "    images = torch.stack(images, 0)\n",
    "    score_maps = torch.stack(score_maps, 0)\n",
    "    geo_maps = torch.stack(geo_maps, 0)\n",
    "    training_masks = torch.stack(training_masks, 0)\n",
    "\n",
    "    return images, score_maps, geo_maps, training_masks"
   ]
  },
  {
   "cell_type": "code",
   "execution_count": 28,
   "metadata": {},
   "outputs": [
    {
     "ename": "RuntimeError",
     "evalue": "number of dims don't match in permute",
     "output_type": "error",
     "traceback": [
      "\u001b[1;31m---------------------------------------------------------------------------\u001b[0m",
      "\u001b[1;31mRuntimeError\u001b[0m                              Traceback (most recent call last)",
      "\u001b[1;32md:\\Personal Project\\FOTS\\ip_collate_fn.ipynb Cell 5'\u001b[0m in \u001b[0;36m<module>\u001b[1;34m\u001b[0m\n\u001b[0;32m      <a href='vscode-notebook-cell:/d%3A/Personal%20Project/FOTS/ip_collate_fn.ipynb#ch0000004?line=7'>8</a>\u001b[0m \u001b[39mif\u001b[39;00m img[i] \u001b[39mis\u001b[39;00m \u001b[39mnot\u001b[39;00m \u001b[39mNone\u001b[39;00m:\n\u001b[0;32m      <a href='vscode-notebook-cell:/d%3A/Personal%20Project/FOTS/ip_collate_fn.ipynb#ch0000004?line=8'>9</a>\u001b[0m     a \u001b[39m=\u001b[39m torch\u001b[39m.\u001b[39mfrom_numpy(img[i])\n\u001b[1;32m---> <a href='vscode-notebook-cell:/d%3A/Personal%20Project/FOTS/ip_collate_fn.ipynb#ch0000004?line=9'>10</a>\u001b[0m     a \u001b[39m=\u001b[39m a\u001b[39m.\u001b[39;49mpermute(\u001b[39m2\u001b[39;49m, \u001b[39m0\u001b[39;49m, \u001b[39m1\u001b[39;49m)\n\u001b[0;32m     <a href='vscode-notebook-cell:/d%3A/Personal%20Project/FOTS/ip_collate_fn.ipynb#ch0000004?line=10'>11</a>\u001b[0m     images\u001b[39m.\u001b[39mappend(a)\n\u001b[0;32m     <a href='vscode-notebook-cell:/d%3A/Personal%20Project/FOTS/ip_collate_fn.ipynb#ch0000004?line=11'>12</a>\u001b[0m     b \u001b[39m=\u001b[39m torch\u001b[39m.\u001b[39mfrom_numpy(score_map[i])\n",
      "\u001b[1;31mRuntimeError\u001b[0m: number of dims don't match in permute"
     ]
    }
   ],
   "source": [
    "img, score_map, geo_map, training_mask = zip(trainset[0])\n",
    "bs = len(score_map)\n",
    "images = []\n",
    "score_maps = []\n",
    "geo_maps = []\n",
    "training_masks = []\n",
    "for i in range(bs):\n",
    "    if img[i] is not None:\n",
    "        a = torch.from_numpy(img[i])\n",
    "        a = a.permute(2, 0, 1)\n",
    "        images.append(a)\n",
    "        b = torch.from_numpy(score_map[i])\n",
    "        b = b.permute(2, 0, 1)\n",
    "        score_maps.append(b)\n",
    "        c = torch.from_numpy(geo_map[i])\n",
    "        c = c.permute(2, 0, 1)\n",
    "        geo_maps.append(c)\n",
    "        d = torch.from_numpy(training_mask[i])\n",
    "        d = d.permute(2, 0, 1)\n",
    "        training_masks.append(d)\n",
    "images = torch.stack(images, 0)\n",
    "score_maps = torch.stack(score_maps, 0)\n",
    "geo_maps = torch.stack(geo_maps, 0)\n",
    "training_masks = torch.stack(training_masks, 0)"
   ]
  },
  {
   "cell_type": "code",
   "execution_count": 27,
   "metadata": {},
   "outputs": [
    {
     "data": {
      "text/plain": [
       "(torch.Size([1, 3, 512, 512]),\n",
       " torch.Size([1, 1, 128, 128]),\n",
       " torch.Size([1, 5, 128, 128]),\n",
       " torch.Size([1, 1, 128, 128]))"
      ]
     },
     "execution_count": 27,
     "metadata": {},
     "output_type": "execute_result"
    }
   ],
   "source": [
    "images.shape, score_maps.shape, geo_maps.shape, training_masks.shape"
   ]
  },
  {
   "cell_type": "code",
   "execution_count": 42,
   "metadata": {},
   "outputs": [],
   "source": [
    "a, b, c, d = zip(*trainset)\n",
    "x, y, w, z = trainset[0]"
   ]
  },
  {
   "cell_type": "code",
   "execution_count": 39,
   "metadata": {},
   "outputs": [
    {
     "data": {
      "text/plain": [
       "1"
      ]
     },
     "execution_count": 39,
     "metadata": {},
     "output_type": "execute_result"
    }
   ],
   "source": [
    "a\n",
    "a = torch.from_numpy(img[i])\n",
    "a = a.permute(2, 0, 1)"
   ]
  },
  {
   "cell_type": "code",
   "execution_count": null,
   "metadata": {},
   "outputs": [],
   "source": []
  }
 ],
 "metadata": {
  "interpreter": {
   "hash": "261fa88f2c090dcd8643b3fd4649e492ba3c14c8e11d52777031b823fb316f84"
  },
  "kernelspec": {
   "display_name": "Python 3.9.10 ('torch')",
   "language": "python",
   "name": "python3"
  },
  "language_info": {
   "codemirror_mode": {
    "name": "ipython",
    "version": 3
   },
   "file_extension": ".py",
   "mimetype": "text/x-python",
   "name": "python",
   "nbconvert_exporter": "python",
   "pygments_lexer": "ipython3",
   "version": "3.9.10"
  },
  "orig_nbformat": 4
 },
 "nbformat": 4,
 "nbformat_minor": 2
}
