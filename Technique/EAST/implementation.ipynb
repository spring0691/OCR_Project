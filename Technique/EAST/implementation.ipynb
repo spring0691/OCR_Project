{
 "cells": [
  {
   "cell_type": "code",
   "execution_count": 16,
   "metadata": {},
   "outputs": [],
   "source": [
    "from shapely.geometry import Polygon\n",
    "import numpy as np\n",
    "import cv2\n",
    "from PIL import Image\n",
    "import math\n",
    "import os\n",
    "import torch\n",
    "import torchvision.transforms as transforms\n",
    "from torch.utils import data\n",
    "\n",
    "from dataset import extract_vertices, adjust_height, rotate_img, crop_img, get_score_geo"
   ]
  },
  {
   "cell_type": "code",
   "execution_count": 17,
   "metadata": {},
   "outputs": [
    {
     "data": {
      "text/plain": [
       "device(type='cuda', index=0)"
      ]
     },
     "execution_count": 17,
     "metadata": {},
     "output_type": "execute_result"
    }
   ],
   "source": [
    "device = torch.device(\"cuda:0\" if torch.cuda.is_available() else \"cpu\")\n",
    "\n",
    "device"
   ]
  },
  {
   "cell_type": "code",
   "execution_count": 18,
   "metadata": {},
   "outputs": [],
   "source": [
    "class custom_dataset(data.Dataset):\n",
    "    def __init__(self, img_path, gt_path, scale=0.25, length=512):\n",
    "        super(custom_dataset, self).__init__()\n",
    "        self.img_files = [os.path.join(img_path, img_file) for img_file in sorted(os.listdir(img_path))]\n",
    "        self.gt_files  = [os.path.join(gt_path, gt_file) for gt_file in sorted(os.listdir(gt_path))]\n",
    "        self.scale = scale\n",
    "        self.length = length\n",
    "  \n",
    "    def __len__(self):\n",
    "\t    return len(self.img_files)\n",
    "\n",
    "    def __getitem__(self, index):\n",
    "        with open(self.gt_files[index], 'r', encoding='UTF-8') as f:\n",
    "            lines = f.readlines()\n",
    "        vertices, labels = extract_vertices(lines)\n",
    "\t\t\n",
    "        img = Image.open(self.img_files[index])\n",
    "        img, vertices = adjust_height(img, vertices) \n",
    "        img, vertices = rotate_img(img, vertices)\n",
    "        img, vertices = crop_img(img, vertices, labels, self.length) \n",
    "        transform = transforms.Compose([transforms.ColorJitter(0.5, 0.5, 0.5, 0.25), \\\n",
    "                                        transforms.ToTensor(), \\\n",
    "                                        transforms.Normalize(mean=(0.5,0.5,0.5),std=(0.5,0.5,0.5))])\n",
    "        \n",
    "        score_map, geo_map, ignored_map = get_score_geo(img, vertices, labels, self.scale, self.length)\n",
    "        return transform(img), score_map, geo_map, ignored_map"
   ]
  },
  {
   "cell_type": "code",
   "execution_count": 19,
   "metadata": {},
   "outputs": [],
   "source": [
    "train_img_path = os.path.abspath('D:/_data/personal_project/EAST_test_data/train_img')\n",
    "train_gt_path  = os.path.abspath('D:/_data/personal_project/EAST_test_data/train_gt')"
   ]
  },
  {
   "cell_type": "code",
   "execution_count": 43,
   "metadata": {},
   "outputs": [
    {
     "data": {
      "text/plain": [
       "32"
      ]
     },
     "execution_count": 43,
     "metadata": {},
     "output_type": "execute_result"
    }
   ],
   "source": [
    "img_files = [os.path.join(train_img_path, img_file) for img_file in sorted(os.listdir(train_img_path))]\n",
    "\n",
    "len(img_files)"
   ]
  },
  {
   "cell_type": "code",
   "execution_count": 47,
   "metadata": {},
   "outputs": [],
   "source": [
    "trainset = custom_dataset(train_img_path, train_gt_path)   # x, y값이 들어있는 튜플\n",
    "train_loader = data.DataLoader(trainset, batch_size=1, shuffle=True, num_workers=0, drop_last=True)"
   ]
  },
  {
   "cell_type": "code",
   "execution_count": 73,
   "metadata": {},
   "outputs": [],
   "source": [
    "a = next(iter(train_loader))"
   ]
  },
  {
   "cell_type": "code",
   "execution_count": 61,
   "metadata": {},
   "outputs": [
    {
     "ename": "ValueError",
     "evalue": "too many values to unpack (expected 2)",
     "output_type": "error",
     "traceback": [
      "\u001b[1;31m---------------------------------------------------------------------------\u001b[0m",
      "\u001b[1;31mValueError\u001b[0m                                Traceback (most recent call last)",
      "\u001b[1;32md:\\Personal Project\\EAST\\EAST-master\\implementation.ipynb Cell 7'\u001b[0m in \u001b[0;36m<module>\u001b[1;34m\u001b[0m\n\u001b[0;32m      <a href='vscode-notebook-cell:/d%3A/Personal%20Project/EAST/EAST-master/implementation.ipynb#ch0000009?line=0'>1</a>\u001b[0m \u001b[39mimport\u001b[39;00m \u001b[39mmatplotlib\u001b[39;00m\u001b[39m.\u001b[39;00m\u001b[39mpyplot\u001b[39;00m \u001b[39mas\u001b[39;00m \u001b[39mplt\u001b[39;00m\n\u001b[0;32m      <a href='vscode-notebook-cell:/d%3A/Personal%20Project/EAST/EAST-master/implementation.ipynb#ch0000009?line=2'>3</a>\u001b[0m \u001b[39m# 이미지와 정답(label)을 표시합니다.\u001b[39;00m\n\u001b[1;32m----> <a href='vscode-notebook-cell:/d%3A/Personal%20Project/EAST/EAST-master/implementation.ipynb#ch0000009?line=3'>4</a>\u001b[0m train_features, train_labels \u001b[39m=\u001b[39m \u001b[39mnext\u001b[39m(\u001b[39miter\u001b[39m(train_loader))\n\u001b[0;32m      <a href='vscode-notebook-cell:/d%3A/Personal%20Project/EAST/EAST-master/implementation.ipynb#ch0000009?line=4'>5</a>\u001b[0m \u001b[39mprint\u001b[39m(\u001b[39mf\u001b[39m\u001b[39m\"\u001b[39m\u001b[39mFeature batch shape: \u001b[39m\u001b[39m{\u001b[39;00mtrain_features\u001b[39m.\u001b[39msize()\u001b[39m}\u001b[39;00m\u001b[39m\"\u001b[39m)\n\u001b[0;32m      <a href='vscode-notebook-cell:/d%3A/Personal%20Project/EAST/EAST-master/implementation.ipynb#ch0000009?line=5'>6</a>\u001b[0m \u001b[39mprint\u001b[39m(\u001b[39mf\u001b[39m\u001b[39m\"\u001b[39m\u001b[39mLabels batch shape: \u001b[39m\u001b[39m{\u001b[39;00mtrain_labels\u001b[39m.\u001b[39msize()\u001b[39m}\u001b[39;00m\u001b[39m\"\u001b[39m)\n",
      "\u001b[1;31mValueError\u001b[0m: too many values to unpack (expected 2)"
     ]
    }
   ],
   "source": [
    "import matplotlib.pyplot as plt\n",
    "\n",
    "# 이미지와 정답(label)을 표시합니다.\n",
    "train_features, train_labels = next(iter(train_loader))\n",
    "a = next(iter(train_loader))\n",
    "print(f\"Feature batch shape: {train_features.size()}\")\n",
    "print(f\"Labels batch shape: {train_labels.size()}\")\n",
    "img = train_features[0].squeeze()\n",
    "label = train_labels[0]\n",
    "plt.imshow(img, cmap=\"gray\")\n",
    "plt.show()\n",
    "print(f\"Label: {label}\")"
   ]
  },
  {
   "cell_type": "code",
   "execution_count": null,
   "metadata": {},
   "outputs": [],
   "source": []
  }
 ],
 "metadata": {
  "interpreter": {
   "hash": "261fa88f2c090dcd8643b3fd4649e492ba3c14c8e11d52777031b823fb316f84"
  },
  "kernelspec": {
   "display_name": "Python 3.9.10 ('torch')",
   "language": "python",
   "name": "python3"
  },
  "language_info": {
   "codemirror_mode": {
    "name": "ipython",
    "version": 3
   },
   "file_extension": ".py",
   "mimetype": "text/x-python",
   "name": "python",
   "nbconvert_exporter": "python",
   "pygments_lexer": "ipython3",
   "version": "3.9.10"
  },
  "orig_nbformat": 4
 },
 "nbformat": 4,
 "nbformat_minor": 2
}
