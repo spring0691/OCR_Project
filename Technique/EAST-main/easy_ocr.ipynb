{
 "cells": [
  {
   "cell_type": "code",
   "execution_count": 1,
   "metadata": {},
   "outputs": [],
   "source": [
    "import easyocr\n",
    "import cv2"
   ]
  },
  {
   "cell_type": "code",
   "execution_count": 6,
   "metadata": {},
   "outputs": [],
   "source": [
    "def split_easyocr(results):\n",
    "    image_name = []\n",
    "    for i in range(len(results)):\n",
    "        get_name = results[i]\n",
    "        get_name = list(get_name)\n",
    "        get_name = get_name[1]\n",
    "        image_name.append(get_name)\n",
    "    return image_name"
   ]
  },
  {
   "cell_type": "code",
   "execution_count": 19,
   "metadata": {},
   "outputs": [
    {
     "data": {
      "text/plain": [
       "'한글'"
      ]
     },
     "execution_count": 19,
     "metadata": {},
     "output_type": "execute_result"
    }
   ],
   "source": [
    "a = (1, 2, [1, 2], \"한글\")\n",
    "\n",
    "a[3]\n"
   ]
  },
  {
   "cell_type": "code",
   "execution_count": 10,
   "metadata": {},
   "outputs": [],
   "source": [
    "PATH = \"D:/_data/personal_project/easy_ocr/\"\n",
    "reader = easyocr.Reader(['en','ko'])"
   ]
  },
  {
   "cell_type": "code",
   "execution_count": 14,
   "metadata": {},
   "outputs": [],
   "source": [
    "results = reader.readtext(PATH + '9.jpg')"
   ]
  },
  {
   "cell_type": "code",
   "execution_count": 15,
   "metadata": {},
   "outputs": [
    {
     "data": {
      "text/plain": [
       "['0',\n",
       " '72',\n",
       " 'Post',\n",
       " '1.3km',\n",
       " 'West',\n",
       " '0.4km',\n",
       " '전승문(북문) 초#씨',\n",
       " 'North Gate',\n",
       " '상사창동',\n",
       " '#n륭침 개정',\n",
       " '3.9km',\n",
       " '3',\n",
       " '노a습 f',\n",
       " 'Sangsachang-dong',\n",
       " '국T@n비_',\n",
       " 'Chimgwageomg',\n",
       " '수어장대',\n",
       " '노성행궁되',\n",
       " '2 1km',\n",
       " '떠6# ji3',\n",
       " '# 스#운흙',\n",
       " \"'Haenggiung F\",\n",
       " 'Palate',\n",
       " \"Sueojangdae '\",\n",
       " 'Command ',\n",
       " 'O2Km',\n",
       " '우의문(서문)',\n",
       " '#제계t하계',\n",
       " 'Gale']"
      ]
     },
     "execution_count": 15,
     "metadata": {},
     "output_type": "execute_result"
    }
   ],
   "source": [
    "split_easyocr(results)"
   ]
  },
  {
   "cell_type": "code",
   "execution_count": null,
   "metadata": {},
   "outputs": [],
   "source": []
  }
 ],
 "metadata": {
  "interpreter": {
   "hash": "1632722d940cb2b6b13e3b44c982a63c5a301e89d847959e11395d64211a8fb4"
  },
  "kernelspec": {
   "display_name": "Python 3.6.5 ('tf114')",
   "language": "python",
   "name": "python3"
  },
  "language_info": {
   "codemirror_mode": {
    "name": "ipython",
    "version": 3
   },
   "file_extension": ".py",
   "mimetype": "text/x-python",
   "name": "python",
   "nbconvert_exporter": "python",
   "pygments_lexer": "ipython3",
   "version": "3.9.10"
  },
  "orig_nbformat": 4
 },
 "nbformat": 4,
 "nbformat_minor": 2
}
