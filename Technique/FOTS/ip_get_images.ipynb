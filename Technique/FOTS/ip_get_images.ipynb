{
 "cells": [
  {
   "cell_type": "code",
   "execution_count": 5,
   "metadata": {},
   "outputs": [],
   "source": [
    "import os\n",
    "import glob as gb"
   ]
  },
  {
   "cell_type": "code",
   "execution_count": 9,
   "metadata": {},
   "outputs": [],
   "source": [
    "def get_images(root):\n",
    "    '''\n",
    "    get images's path and name\n",
    "    '''\n",
    "    files = []\n",
    "    for ext in ['jpg', 'png', 'jpeg', 'JPG','JPEG']:\n",
    "        files.extend(gb.glob(os.path.join(root, '*.{}'.format(ext))))\n",
    "    name = []\n",
    "    for i in range(len(files)):\n",
    "        name.append(files[i].split('/')[-1].split('\\\\')[-1])\n",
    "    return files, name"
   ]
  },
  {
   "cell_type": "code",
   "execution_count": 10,
   "metadata": {},
   "outputs": [
    {
     "data": {
      "text/plain": [
       "'D:/_data/personal_project/ICDAR_2015/train_gt/'"
      ]
     },
     "execution_count": 10,
     "metadata": {},
     "output_type": "execute_result"
    }
   ],
   "source": [
    "root_path = 'D:/_data/personal_project/ICDAR_2015/'\n",
    "train_img = root_path + 'train_img/'\n",
    "train_txt = root_path + 'train_gt/'\n",
    "\n",
    "# file, name = get_images(train_txt)\n",
    "# file[1], name[1]\n",
    "\n",
    "train_txt"
   ]
  }
 ],
 "metadata": {
  "interpreter": {
   "hash": "261fa88f2c090dcd8643b3fd4649e492ba3c14c8e11d52777031b823fb316f84"
  },
  "kernelspec": {
   "display_name": "Python 3.9.10 ('torch')",
   "language": "python",
   "name": "python3"
  },
  "language_info": {
   "codemirror_mode": {
    "name": "ipython",
    "version": 3
   },
   "file_extension": ".py",
   "mimetype": "text/x-python",
   "name": "python",
   "nbconvert_exporter": "python",
   "pygments_lexer": "ipython3",
   "version": "3.9.10"
  },
  "orig_nbformat": 4
 },
 "nbformat": 4,
 "nbformat_minor": 2
}
